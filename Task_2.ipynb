{
 "cells": [
  {
   "cell_type": "markdown",
   "id": "fd8d2495",
   "metadata": {},
   "source": [
    "## Task 2"
   ]
  },
  {
   "cell_type": "markdown",
   "id": "618d51d5",
   "metadata": {},
   "source": [
    "Imagine you work for forecast weather Now imagine your boss wants you to find the temperture for each day in celsius degree. How could you do this with Beautiful Soup?\n",
    "https://forecast.weather.gov/MapClick.php?lat=37.7772&lon=-122.4168"
   ]
  },
  {
   "cell_type": "code",
   "execution_count": 14,
   "id": "2440801e",
   "metadata": {},
   "outputs": [],
   "source": [
    "import requests\n",
    "from bs4 import BeautifulSoup"
   ]
  },
  {
   "cell_type": "code",
   "execution_count": 15,
   "id": "eeb45740",
   "metadata": {},
   "outputs": [
    {
     "data": {
      "text/plain": [
       "<Response [200]>"
      ]
     },
     "execution_count": 15,
     "metadata": {},
     "output_type": "execute_result"
    }
   ],
   "source": [
    "url = \"https://forecast.weather.gov/MapClick.php?lat=37.7772&lon=-122.4168\"\n",
    "response = requests.get(url)\n",
    "response"
   ]
  },
  {
   "cell_type": "code",
   "execution_count": 16,
   "id": "df5945d9",
   "metadata": {},
   "outputs": [],
   "source": [
    "soup = BeautifulSoup(response.text, \"html.parser\")"
   ]
  },
  {
   "cell_type": "code",
   "execution_count": 17,
   "id": "a8de9c8a",
   "metadata": {},
   "outputs": [
    {
     "data": {
      "text/plain": [
       "<li class=\"forecast-tombstone\"><div class=\"tombstone-container\"><p class=\"period-name\">Today</p><p><img alt=\"Today: Sunny, with a high near 80. Light southwest wind becoming west 5 to 10 mph in the morning. \" class=\"forecast-icon\" src=\"newimages/medium/skc.png\" title=\"Today: Sunny, with a high near 80. Light southwest wind becoming west 5 to 10 mph in the morning. \"/></p><p class=\"temp temp-high\">High: 80 °F</p><p class=\"short-desc\">Sunny</p></div></li>"
      ]
     },
     "execution_count": 17,
     "metadata": {},
     "output_type": "execute_result"
    }
   ],
   "source": [
    "soup.find(id=\"seven-day-forecast-list\").find_all(class_ = \"forecast-tombstone\")[0]"
   ]
  },
  {
   "cell_type": "code",
   "execution_count": 18,
   "id": "bfea37e5",
   "metadata": {},
   "outputs": [],
   "source": [
    "week = soup.find(\"ul\", attrs={\"id\":\"seven-day-forecast-list\"})"
   ]
  },
  {
   "cell_type": "code",
   "execution_count": 19,
   "id": "eb6235ec",
   "metadata": {},
   "outputs": [],
   "source": [
    "all_week = week.find_all(\"li\", attrs={\"class\":\"forecast-tombstone\"})"
   ]
  },
  {
   "cell_type": "code",
   "execution_count": 20,
   "id": "24b8935a",
   "metadata": {},
   "outputs": [
    {
     "name": "stdout",
     "output_type": "stream",
     "text": [
      "<li class=\"forecast-tombstone\">\n",
      " <div class=\"tombstone-container\">\n",
      "  <p class=\"period-name\">\n",
      "   Today\n",
      "  </p>\n",
      "  <p>\n",
      "   <img alt=\"Today: Sunny, with a high near 80. Light southwest wind becoming west 5 to 10 mph in the morning. \" class=\"forecast-icon\" src=\"newimages/medium/skc.png\" title=\"Today: Sunny, with a high near 80. Light southwest wind becoming west 5 to 10 mph in the morning. \"/>\n",
      "  </p>\n",
      "  <p class=\"temp temp-high\">\n",
      "   High: 80 °F\n",
      "  </p>\n",
      "  <p class=\"short-desc\">\n",
      "   Sunny\n",
      "  </p>\n",
      " </div>\n",
      "</li>\n",
      "\n"
     ]
    }
   ],
   "source": [
    "print(all_week[0].prettify())"
   ]
  },
  {
   "cell_type": "code",
   "execution_count": 21,
   "id": "92b70872",
   "metadata": {},
   "outputs": [],
   "source": [
    "period_name = all_week[0].find(\"p\", attrs={\"class\":\"period-name\"}).text"
   ]
  },
  {
   "cell_type": "code",
   "execution_count": 22,
   "id": "dade48c8",
   "metadata": {},
   "outputs": [],
   "source": [
    "teamp = all_week[0].find(\"p\", attrs={\"class\":\"temp temp-high\"}).text"
   ]
  },
  {
   "cell_type": "code",
   "execution_count": 23,
   "id": "dd0839c7",
   "metadata": {},
   "outputs": [],
   "source": [
    "short_desc = all_week[0].find(\"p\", attrs={\"class\":\"short-desc\"}).text"
   ]
  },
  {
   "cell_type": "code",
   "execution_count": 24,
   "id": "a9f0afc3",
   "metadata": {},
   "outputs": [],
   "source": [
    "long_desc = soup.find_all(\"div\", attrs={\"class\":\"col-sm-10\"})[0].text"
   ]
  },
  {
   "cell_type": "code",
   "execution_count": 25,
   "id": "09bd7514",
   "metadata": {},
   "outputs": [],
   "source": [
    "period_tags = week.select(\".forecast-tombstone .period-name\")"
   ]
  },
  {
   "cell_type": "code",
   "execution_count": 26,
   "id": "7fd01293",
   "metadata": {},
   "outputs": [
    {
     "data": {
      "text/plain": [
       "[<p class=\"temp temp-high\">High: 80 °F</p>,\n",
       " <p class=\"temp temp-low\">Low: 54 °F</p>,\n",
       " <p class=\"temp temp-high\">High: 72 °F</p>,\n",
       " <p class=\"temp temp-low\">Low: 53 °F</p>,\n",
       " <p class=\"temp temp-high\">High: 68 °F</p>,\n",
       " <p class=\"temp temp-low\">Low: 54 °F</p>,\n",
       " <p class=\"temp temp-high\">High: 70 °F</p>,\n",
       " <p class=\"temp temp-low\">Low: 54 °F</p>,\n",
       " <p class=\"temp temp-high\">High: 68 °F</p>]"
      ]
     },
     "execution_count": 26,
     "metadata": {},
     "output_type": "execute_result"
    }
   ],
   "source": [
    "temps_tags = week.select(\".forecast-tombstone .temp\")\n",
    "temps_tags"
   ]
  },
  {
   "cell_type": "code",
   "execution_count": 27,
   "id": "fd995a3e",
   "metadata": {},
   "outputs": [
    {
     "data": {
      "text/plain": [
       "[<p class=\"short-desc\">Sunny</p>,\n",
       " <p class=\"short-desc\">Slight Chance<br/>Drizzle</p>,\n",
       " <p class=\"short-desc\">Sunny</p>,\n",
       " <p class=\"short-desc\">Chance<br/>Drizzle</p>,\n",
       " <p class=\"short-desc\">Sunny</p>,\n",
       " <p class=\"short-desc\">Partly Cloudy</p>,\n",
       " <p class=\"short-desc\">Mostly Sunny</p>,\n",
       " <p class=\"short-desc\">Partly Cloudy</p>,\n",
       " <p class=\"short-desc\">Sunny</p>]"
      ]
     },
     "execution_count": 27,
     "metadata": {},
     "output_type": "execute_result"
    }
   ],
   "source": [
    "short_desc_tags = week.select(\".forecast-tombstone .short-desc\")\n",
    "short_desc_tags"
   ]
  },
  {
   "cell_type": "code",
   "execution_count": 28,
   "id": "e680de2d",
   "metadata": {},
   "outputs": [
    {
     "data": {
      "text/plain": [
       "'Sunny, with a high near 80. Light southwest wind becoming west 5 to 10 mph in the morning. '"
      ]
     },
     "execution_count": 28,
     "metadata": {},
     "output_type": "execute_result"
    }
   ],
   "source": [
    "long_descs_tags = week.select(\".forecast-tombstone .forecast-icon\")\n",
    "long_descs_tags[0][\"title\"].split(\":\")[1][1:]"
   ]
  },
  {
   "cell_type": "code",
   "execution_count": 29,
   "id": "36cdc666",
   "metadata": {},
   "outputs": [
    {
     "name": "stdout",
     "output_type": "stream",
     "text": [
      "at item 0\n",
      "at item 1\n",
      "at item 2\n",
      "at item 3\n",
      "at item 4\n",
      "at item 5\n",
      "at item 6\n",
      "at item 7\n",
      "at item 8\n"
     ]
    }
   ],
   "source": [
    "with open(\"forecast.csv\", mode=\"w\", encoding=\"utf-8\") as f:\n",
    "    f.write(\"period,temerature,short_description,long_description\\n\")\n",
    "    for p in range(len(week)):\n",
    "        print(f\"at item {p}\")\n",
    "        period_name = all_week[p].find(\"p\", attrs={\"class\":\"period-name\"}).text\n",
    "        temp = all_week[p].find(\"p\", attrs={\"class\":\"temp\"}).text\n",
    "        short_desc = all_week[p].find(\"p\", attrs={\"class\":\"short-desc\"}).text\n",
    "        long_desc = soup.find_all(\"div\", attrs={\"class\":\"col-sm-10\"})[p].text\n",
    "        f.write(f\"{period_name},{temp},{short_desc},\\\"{long_desc}\\\"\\n\")"
   ]
  },
  {
   "cell_type": "code",
   "execution_count": 30,
   "id": "aa5d23a8",
   "metadata": {},
   "outputs": [
    {
     "data": {
      "text/html": [
       "<div>\n",
       "<style scoped>\n",
       "    .dataframe tbody tr th:only-of-type {\n",
       "        vertical-align: middle;\n",
       "    }\n",
       "\n",
       "    .dataframe tbody tr th {\n",
       "        vertical-align: top;\n",
       "    }\n",
       "\n",
       "    .dataframe thead th {\n",
       "        text-align: right;\n",
       "    }\n",
       "</style>\n",
       "<table border=\"1\" class=\"dataframe\">\n",
       "  <thead>\n",
       "    <tr style=\"text-align: right;\">\n",
       "      <th></th>\n",
       "      <th>period</th>\n",
       "      <th>temerature</th>\n",
       "      <th>short_description</th>\n",
       "      <th>long_description</th>\n",
       "    </tr>\n",
       "  </thead>\n",
       "  <tbody>\n",
       "    <tr>\n",
       "      <th>0</th>\n",
       "      <td>Today</td>\n",
       "      <td>High: 80 °F</td>\n",
       "      <td>Sunny</td>\n",
       "      <td>Sunny, with a high near 80. Light southwest wi...</td>\n",
       "    </tr>\n",
       "    <tr>\n",
       "      <th>1</th>\n",
       "      <td>Tonight</td>\n",
       "      <td>Low: 54 °F</td>\n",
       "      <td>Slight ChanceDrizzle</td>\n",
       "      <td>A slight chance of drizzle after 11pm.  Mostly...</td>\n",
       "    </tr>\n",
       "    <tr>\n",
       "      <th>2</th>\n",
       "      <td>Thursday</td>\n",
       "      <td>High: 72 °F</td>\n",
       "      <td>Sunny</td>\n",
       "      <td>Sunny, with a high near 72. Light southwest wi...</td>\n",
       "    </tr>\n",
       "    <tr>\n",
       "      <th>3</th>\n",
       "      <td>Thursday Night</td>\n",
       "      <td>Low: 53 °F</td>\n",
       "      <td>ChanceDrizzle</td>\n",
       "      <td>A chance of drizzle after 11pm.  Partly cloudy...</td>\n",
       "    </tr>\n",
       "    <tr>\n",
       "      <th>4</th>\n",
       "      <td>Friday</td>\n",
       "      <td>High: 68 °F</td>\n",
       "      <td>Sunny</td>\n",
       "      <td>Sunny, with a high near 68. Southwest wind 5 t...</td>\n",
       "    </tr>\n",
       "    <tr>\n",
       "      <th>5</th>\n",
       "      <td>Friday Night</td>\n",
       "      <td>Low: 54 °F</td>\n",
       "      <td>Partly Cloudy</td>\n",
       "      <td>Partly cloudy, with a low around 54.</td>\n",
       "    </tr>\n",
       "    <tr>\n",
       "      <th>6</th>\n",
       "      <td>Saturday</td>\n",
       "      <td>High: 70 °F</td>\n",
       "      <td>Mostly Sunny</td>\n",
       "      <td>Mostly sunny, with a high near 70.</td>\n",
       "    </tr>\n",
       "    <tr>\n",
       "      <th>7</th>\n",
       "      <td>Saturday Night</td>\n",
       "      <td>Low: 54 °F</td>\n",
       "      <td>Partly Cloudy</td>\n",
       "      <td>Partly cloudy, with a low around 54.</td>\n",
       "    </tr>\n",
       "    <tr>\n",
       "      <th>8</th>\n",
       "      <td>Sunday</td>\n",
       "      <td>High: 68 °F</td>\n",
       "      <td>Sunny</td>\n",
       "      <td>Sunny, with a high near 68.</td>\n",
       "    </tr>\n",
       "  </tbody>\n",
       "</table>\n",
       "</div>"
      ],
      "text/plain": [
       "           period   temerature     short_description  \\\n",
       "0           Today  High: 80 °F                 Sunny   \n",
       "1         Tonight   Low: 54 °F  Slight ChanceDrizzle   \n",
       "2        Thursday  High: 72 °F                 Sunny   \n",
       "3  Thursday Night   Low: 53 °F         ChanceDrizzle   \n",
       "4          Friday  High: 68 °F                 Sunny   \n",
       "5    Friday Night   Low: 54 °F         Partly Cloudy   \n",
       "6        Saturday  High: 70 °F          Mostly Sunny   \n",
       "7  Saturday Night   Low: 54 °F         Partly Cloudy   \n",
       "8          Sunday  High: 68 °F                 Sunny   \n",
       "\n",
       "                                    long_description  \n",
       "0  Sunny, with a high near 80. Light southwest wi...  \n",
       "1  A slight chance of drizzle after 11pm.  Mostly...  \n",
       "2  Sunny, with a high near 72. Light southwest wi...  \n",
       "3  A chance of drizzle after 11pm.  Partly cloudy...  \n",
       "4  Sunny, with a high near 68. Southwest wind 5 t...  \n",
       "5               Partly cloudy, with a low around 54.  \n",
       "6                 Mostly sunny, with a high near 70.  \n",
       "7               Partly cloudy, with a low around 54.  \n",
       "8                        Sunny, with a high near 68.  "
      ]
     },
     "execution_count": 30,
     "metadata": {},
     "output_type": "execute_result"
    }
   ],
   "source": [
    "import pandas as pd\n",
    "df = pd.read_csv(\"forecast.csv\")\n",
    "df"
   ]
  }
 ],
 "metadata": {
  "kernelspec": {
   "display_name": "Python 3 (ipykernel)",
   "language": "python",
   "name": "python3"
  },
  "language_info": {
   "codemirror_mode": {
    "name": "ipython",
    "version": 3
   },
   "file_extension": ".py",
   "mimetype": "text/x-python",
   "name": "python",
   "nbconvert_exporter": "python",
   "pygments_lexer": "ipython3",
   "version": "3.11.5"
  }
 },
 "nbformat": 4,
 "nbformat_minor": 5
}
